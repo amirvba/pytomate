{
 "cells": [
  {
   "cell_type": "code",
   "execution_count": 21,
   "metadata": {},
   "outputs": [],
   "source": [
    "dct_abkurzungen = { 'A'   :'Anton'\n",
    ", 'Ä'   :'Ärger'\n",
    ", 'B'   :'Berta'\n",
    ", 'C'   :'Cäsar'\n",
    ", 'Ch'  :'Charlotte'\n",
    ", 'D'   :'Dora'\n",
    ", 'E'   :'Emil'\n",
    ", 'F'   :'Friedrich'\n",
    ", 'G'   :'Gustav'\n",
    ", 'H'   :'Heinrich'\n",
    ", 'I'   :'Ida'\n",
    ", 'J'   :'Julius'\n",
    ", 'K'   :'Kaufmann'\n",
    ", 'L'   :'Ludwig'\n",
    ", 'M'   :'Martha'\n",
    ", 'N'   :'Norbert'\n",
    ", 'O'   :'Otto'\n",
    ", 'Ö'   :'Ökonom'\n",
    ", 'P'   :'Paula'\n",
    ", 'Q'   :'Quelle'\n",
    ", 'R'   :'Richard'\n",
    ", 'S'   :'Samuel'\n",
    ", 'Sch' :'Schule'\n",
    ", 'ß'   :'Esszett'\n",
    ", 'T'   :'Theodor'\n",
    ", 'U'   :'Ulrich'\n",
    ", 'Ü'   :'Übermut'\n",
    ", 'V'   :'Victor'\n",
    ", 'W'   :'Wilhelm'\n",
    ", 'X'   :'Xanthippe'\n",
    ", 'Y'   :'Ypsilon'\n",
    ", 'Z'   :'Zacharias'}"
   ]
  },
  {
   "cell_type": "code",
   "execution_count": 26,
   "metadata": {},
   "outputs": [
    {
     "name": "stdout",
     "output_type": "stream",
     "text": [
      "A    Anton\n",
      "M    Martha\n",
      "I    Ida\n",
      "R    Richard\n",
      "     \n",
      "V    Victor\n",
      "B    Berta\n",
      "A    Anton\n",
      "\n",
      "8 \t count of letters in the name\n",
      "7 \t count of unique letters in the name\n"
     ]
    }
   ],
   "source": [
    "def get_words(str_in):\n",
    "    for i in str_in.upper():\n",
    "        print(i, \"  \", dct_abkurzungen.get(i, \"\"))\n",
    "\n",
    "    print()\n",
    "    print(len(str_in), \"\\t\", 'count of letters in the name')    \n",
    "    print(len(''.join(set(str_in))), \"\\t\", 'count of unique letters in the name')\n",
    "\n",
    "get_words(\"Amir VBA\")"
   ]
  }
 ],
 "metadata": {
  "kernelspec": {
   "display_name": "Python 3",
   "language": "python",
   "name": "python3"
  }
 },
 "nbformat": 4,
 "nbformat_minor": 2
}
