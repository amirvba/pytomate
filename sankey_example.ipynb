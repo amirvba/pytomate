{
 "cells": [
  {
   "cell_type": "code",
   "execution_count": 1,
   "metadata": {},
   "outputs": [],
   "source": [
    "import pandas as pd\n",
    "from ipysankeywidget import SankeyWidget"
   ]
  },
  {
   "cell_type": "code",
   "execution_count": 2,
   "metadata": {},
   "outputs": [
    {
     "data": {
      "text/html": [
       "<div>\n",
       "<style scoped>\n",
       "    .dataframe tbody tr th:only-of-type {\n",
       "        vertical-align: middle;\n",
       "    }\n",
       "\n",
       "    .dataframe tbody tr th {\n",
       "        vertical-align: top;\n",
       "    }\n",
       "\n",
       "    .dataframe thead th {\n",
       "        text-align: right;\n",
       "    }\n",
       "</style>\n",
       "<table border=\"1\" class=\"dataframe\">\n",
       "  <thead>\n",
       "    <tr style=\"text-align: right;\">\n",
       "      <th></th>\n",
       "      <th>source</th>\n",
       "      <th>target</th>\n",
       "      <th>value</th>\n",
       "    </tr>\n",
       "  </thead>\n",
       "  <tbody>\n",
       "    <tr>\n",
       "      <th>0</th>\n",
       "      <td>Source_1</td>\n",
       "      <td>Retailer_A</td>\n",
       "      <td>1</td>\n",
       "    </tr>\n",
       "    <tr>\n",
       "      <th>1</th>\n",
       "      <td>Source_1</td>\n",
       "      <td>Retailer_B</td>\n",
       "      <td>2</td>\n",
       "    </tr>\n",
       "    <tr>\n",
       "      <th>2</th>\n",
       "      <td>Source_1</td>\n",
       "      <td>Retailer_C</td>\n",
       "      <td>3</td>\n",
       "    </tr>\n",
       "    <tr>\n",
       "      <th>3</th>\n",
       "      <td>Source_2</td>\n",
       "      <td>Retailer_A</td>\n",
       "      <td>4</td>\n",
       "    </tr>\n",
       "    <tr>\n",
       "      <th>4</th>\n",
       "      <td>Source_2</td>\n",
       "      <td>Retailer_B</td>\n",
       "      <td>2</td>\n",
       "    </tr>\n",
       "  </tbody>\n",
       "</table>\n",
       "</div>"
      ],
      "text/plain": [
       "     source      target  value\n",
       "0  Source_1  Retailer_A      1\n",
       "1  Source_1  Retailer_B      2\n",
       "2  Source_1  Retailer_C      3\n",
       "3  Source_2  Retailer_A      4\n",
       "4  Source_2  Retailer_B      2"
      ]
     },
     "execution_count": 2,
     "metadata": {},
     "output_type": "execute_result"
    }
   ],
   "source": [
    "df = pd.DataFrame({'source':['Source_1', 'Source_1', 'Source_1', 'Source_2', 'Source_2']\n",
    "                  ,'target':['Retailer_A', 'Retailer_B', 'Retailer_C', 'Retailer_A', 'Retailer_B']\n",
    "                  ,'value':[1, 2, 3, 4, 2]                 \n",
    "                  })\n",
    "\n",
    "df"
   ]
  },
  {
   "cell_type": "code",
   "execution_count": 3,
   "metadata": {},
   "outputs": [
    {
     "data": {
      "text/plain": [
       "[{'source': 'Source_1', 'target': 'Retailer_A', 'value': 1},\n",
       " {'source': 'Source_1', 'target': 'Retailer_B', 'value': 2},\n",
       " {'source': 'Source_1', 'target': 'Retailer_C', 'value': 3},\n",
       " {'source': 'Source_2', 'target': 'Retailer_A', 'value': 4},\n",
       " {'source': 'Source_2', 'target': 'Retailer_B', 'value': 2}]"
      ]
     },
     "execution_count": 3,
     "metadata": {},
     "output_type": "execute_result"
    }
   ],
   "source": [
    "df.to_dict(orient='records')"
   ]
  },
  {
   "cell_type": "code",
   "execution_count": 4,
   "metadata": {},
   "outputs": [
    {
     "data": {
      "application/vnd.jupyter.widget-view+json": {
       "model_id": "742c31d93f7b4c719479310cfdca1854",
       "version_major": 2,
       "version_minor": 0
      },
      "text/plain": [
       "SankeyWidget(linkLabelFormat='.0f', links=[{'source': 'Source_1', 'target': 'Retailer_A', 'value': 1}, {'sourc…"
      ]
     },
     "metadata": {},
     "output_type": "display_data"
    }
   ],
   "source": [
    "SankeyWidget(links= df.to_dict(orient='records')\n",
    "#              , margins=dict(top=0, bottom=0, left=100, right=100)\n",
    "             ,  linkLabelFormat='.0f')"
   ]
  }
 ],
 "metadata": {
  "kernelspec": {
   "display_name": "Python 3",
   "language": "python",
   "name": "python3"
  },
  "language_info": {
   "codemirror_mode": {
    "name": "ipython",
    "version": 3
   },
   "file_extension": ".py",
   "mimetype": "text/x-python",
   "name": "python",
   "nbconvert_exporter": "python",
   "pygments_lexer": "ipython3",
   "version": "3.6.9"
  }
 },
 "nbformat": 4,
 "nbformat_minor": 2
}
