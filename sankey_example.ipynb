{
 "cells": [
  {
   "cell_type": "code",
   "execution_count": 9,
   "metadata": {},
   "outputs": [],
   "source": [
    "from ipysankeywidget import SankeyWidget\n",
    "import pandas as pd\n",
    "import numpy as np"
   ]
  },
  {
   "cell_type": "code",
   "execution_count": 2,
   "metadata": {
    "scrolled": true
   },
   "outputs": [
    {
     "data": {
      "text/html": [
       "<div>\n",
       "<style scoped>\n",
       "    .dataframe tbody tr th:only-of-type {\n",
       "        vertical-align: middle;\n",
       "    }\n",
       "\n",
       "    .dataframe tbody tr th {\n",
       "        vertical-align: top;\n",
       "    }\n",
       "\n",
       "    .dataframe thead th {\n",
       "        text-align: right;\n",
       "    }\n",
       "</style>\n",
       "<table border=\"1\" class=\"dataframe\">\n",
       "  <thead>\n",
       "    <tr style=\"text-align: right;\">\n",
       "      <th></th>\n",
       "      <th>Col1</th>\n",
       "      <th>Col2</th>\n",
       "      <th>Col3</th>\n",
       "      <th>value</th>\n",
       "    </tr>\n",
       "  </thead>\n",
       "  <tbody>\n",
       "    <tr>\n",
       "      <th>0</th>\n",
       "      <td>Source_1</td>\n",
       "      <td>Retailer_A</td>\n",
       "      <td>F</td>\n",
       "      <td>1</td>\n",
       "    </tr>\n",
       "    <tr>\n",
       "      <th>1</th>\n",
       "      <td>Source_1</td>\n",
       "      <td>Retailer_B</td>\n",
       "      <td>G</td>\n",
       "      <td>2</td>\n",
       "    </tr>\n",
       "    <tr>\n",
       "      <th>2</th>\n",
       "      <td>Source_1</td>\n",
       "      <td>Retailer_C</td>\n",
       "      <td>F</td>\n",
       "      <td>3</td>\n",
       "    </tr>\n",
       "    <tr>\n",
       "      <th>3</th>\n",
       "      <td>Source_2</td>\n",
       "      <td>Retailer_A</td>\n",
       "      <td>H</td>\n",
       "      <td>4</td>\n",
       "    </tr>\n",
       "    <tr>\n",
       "      <th>4</th>\n",
       "      <td>Source_2</td>\n",
       "      <td>Retailer_B</td>\n",
       "      <td>H</td>\n",
       "      <td>7</td>\n",
       "    </tr>\n",
       "  </tbody>\n",
       "</table>\n",
       "</div>"
      ],
      "text/plain": [
       "       Col1        Col2 Col3  value\n",
       "0  Source_1  Retailer_A    F      1\n",
       "1  Source_1  Retailer_B    G      2\n",
       "2  Source_1  Retailer_C    F      3\n",
       "3  Source_2  Retailer_A    H      4\n",
       "4  Source_2  Retailer_B    H      7"
      ]
     },
     "execution_count": 2,
     "metadata": {},
     "output_type": "execute_result"
    }
   ],
   "source": [
    "df = pd.DataFrame({'Col1':['Source_1', 'Source_1', 'Source_1', 'Source_2', 'Source_2']\n",
    "                  ,'Col2':['Retailer_A', 'Retailer_B', 'Retailer_C', 'Retailer_A', 'Retailer_B']\n",
    "                  ,'Col3':['F', 'G', 'F', 'H', 'H']\n",
    "                  ,'value':[1, 2, 3, 4, 7]                 \n",
    "                  })\n",
    "\n",
    "df"
   ]
  },
  {
   "cell_type": "code",
   "execution_count": 3,
   "metadata": {},
   "outputs": [],
   "source": [
    "def get_sankey(DF):\n",
    "\n",
    "    return SankeyWidget(links= DF.to_dict(orient='records')\n",
    "                        \n",
    "#              , margins=dict(top=0, bottom=0, left=100, right=100)\n",
    "             ,  linkLabelFormat='.0f')\n"
   ]
  },
  {
   "cell_type": "code",
   "execution_count": 4,
   "metadata": {
    "scrolled": true
   },
   "outputs": [
    {
     "data": {
      "text/html": [
       "<div>\n",
       "<style scoped>\n",
       "    .dataframe tbody tr th:only-of-type {\n",
       "        vertical-align: middle;\n",
       "    }\n",
       "\n",
       "    .dataframe tbody tr th {\n",
       "        vertical-align: top;\n",
       "    }\n",
       "\n",
       "    .dataframe thead th {\n",
       "        text-align: right;\n",
       "    }\n",
       "</style>\n",
       "<table border=\"1\" class=\"dataframe\">\n",
       "  <thead>\n",
       "    <tr style=\"text-align: right;\">\n",
       "      <th></th>\n",
       "      <th>source</th>\n",
       "      <th>target</th>\n",
       "      <th>value</th>\n",
       "    </tr>\n",
       "  </thead>\n",
       "  <tbody>\n",
       "    <tr>\n",
       "      <th>0</th>\n",
       "      <td>All</td>\n",
       "      <td>Source_1</td>\n",
       "      <td>6</td>\n",
       "    </tr>\n",
       "    <tr>\n",
       "      <th>1</th>\n",
       "      <td>All</td>\n",
       "      <td>Source_2</td>\n",
       "      <td>11</td>\n",
       "    </tr>\n",
       "  </tbody>\n",
       "</table>\n",
       "</div>"
      ],
      "text/plain": [
       "  source    target  value\n",
       "0    All  Source_1      6\n",
       "1    All  Source_2     11"
      ]
     },
     "execution_count": 4,
     "metadata": {},
     "output_type": "execute_result"
    }
   ],
   "source": [
    "def get_df_sankey_single(DF, str_source, str_value):\n",
    "\n",
    "    df_pv = DF.pivot_table(index = str_source\n",
    "                         , values = str_value\n",
    "                         , aggfunc = np.sum)\n",
    "    \n",
    "    df_pv = df_pv.reset_index()\n",
    "    \n",
    "    df_pv.rename(columns = {str_source:'target'}, inplace = True)\n",
    "\n",
    "    df_pv['source'] = 'All'\n",
    "    df_pv = df_pv[['source', 'target', 'value']]\n",
    "    return df_pv\n",
    "    \n",
    "    \n",
    "    \n",
    "df_all = get_df_sankey_single(df, str_source = 'Col1', str_value = 'value')\n",
    "df_all"
   ]
  },
  {
   "cell_type": "code",
   "execution_count": 8,
   "metadata": {},
   "outputs": [
    {
     "data": {
      "application/vnd.jupyter.widget-view+json": {
       "model_id": "c7205432c3c1454ab9cb449d3789c83e",
       "version_major": 2,
       "version_minor": 0
      },
      "text/plain": [
       "SankeyWidget(linkLabelFormat='.0f', links=[{'source': 'All', 'target': 'Source_1', 'value': 6}, {'source': 'Al…"
      ]
     },
     "metadata": {},
     "output_type": "display_data"
    }
   ],
   "source": [
    "get_sankey(df_all)"
   ]
  },
  {
   "cell_type": "code",
   "execution_count": 5,
   "metadata": {
    "scrolled": true
   },
   "outputs": [
    {
     "data": {
      "text/html": [
       "<div>\n",
       "<style scoped>\n",
       "    .dataframe tbody tr th:only-of-type {\n",
       "        vertical-align: middle;\n",
       "    }\n",
       "\n",
       "    .dataframe tbody tr th {\n",
       "        vertical-align: top;\n",
       "    }\n",
       "\n",
       "    .dataframe thead th {\n",
       "        text-align: right;\n",
       "    }\n",
       "</style>\n",
       "<table border=\"1\" class=\"dataframe\">\n",
       "  <thead>\n",
       "    <tr style=\"text-align: right;\">\n",
       "      <th></th>\n",
       "      <th>source</th>\n",
       "      <th>target</th>\n",
       "      <th>value</th>\n",
       "    </tr>\n",
       "  </thead>\n",
       "  <tbody>\n",
       "    <tr>\n",
       "      <th>0</th>\n",
       "      <td>Retailer_A</td>\n",
       "      <td>F</td>\n",
       "      <td>1</td>\n",
       "    </tr>\n",
       "    <tr>\n",
       "      <th>1</th>\n",
       "      <td>Retailer_A</td>\n",
       "      <td>H</td>\n",
       "      <td>4</td>\n",
       "    </tr>\n",
       "    <tr>\n",
       "      <th>2</th>\n",
       "      <td>Retailer_B</td>\n",
       "      <td>G</td>\n",
       "      <td>2</td>\n",
       "    </tr>\n",
       "    <tr>\n",
       "      <th>3</th>\n",
       "      <td>Retailer_B</td>\n",
       "      <td>H</td>\n",
       "      <td>7</td>\n",
       "    </tr>\n",
       "    <tr>\n",
       "      <th>4</th>\n",
       "      <td>Retailer_C</td>\n",
       "      <td>F</td>\n",
       "      <td>3</td>\n",
       "    </tr>\n",
       "  </tbody>\n",
       "</table>\n",
       "</div>"
      ],
      "text/plain": [
       "       source target  value\n",
       "0  Retailer_A      F      1\n",
       "1  Retailer_A      H      4\n",
       "2  Retailer_B      G      2\n",
       "3  Retailer_B      H      7\n",
       "4  Retailer_C      F      3"
      ]
     },
     "execution_count": 5,
     "metadata": {},
     "output_type": "execute_result"
    }
   ],
   "source": [
    "def get_df_sankey_couple(DF, lst_columns, str_value):\n",
    "\n",
    "    DF = DF.rename(columns = {lst_columns[0]:'source', lst_columns[1]:'target'})\n",
    "    \n",
    "    df_pv = DF.pivot_table(index = ['source', 'target']\n",
    "                         , values = str_value\n",
    "                         , aggfunc = np.sum).reset_index()\n",
    "        \n",
    "    return df_pv[['source', 'target', 'value']]\n",
    "    \n",
    "    \n",
    "    \n",
    "df_all = get_df_sankey_couple(df, ['Col2', 'Col3'], str_value = 'value')\n",
    "df_all"
   ]
  },
  {
   "cell_type": "code",
   "execution_count": 6,
   "metadata": {},
   "outputs": [
    {
     "data": {
      "text/html": [
       "<div>\n",
       "<style scoped>\n",
       "    .dataframe tbody tr th:only-of-type {\n",
       "        vertical-align: middle;\n",
       "    }\n",
       "\n",
       "    .dataframe tbody tr th {\n",
       "        vertical-align: top;\n",
       "    }\n",
       "\n",
       "    .dataframe thead th {\n",
       "        text-align: right;\n",
       "    }\n",
       "</style>\n",
       "<table border=\"1\" class=\"dataframe\">\n",
       "  <thead>\n",
       "    <tr style=\"text-align: right;\">\n",
       "      <th></th>\n",
       "      <th>source</th>\n",
       "      <th>target</th>\n",
       "      <th>value</th>\n",
       "    </tr>\n",
       "  </thead>\n",
       "  <tbody>\n",
       "    <tr>\n",
       "      <th>0</th>\n",
       "      <td>All</td>\n",
       "      <td>Source_1</td>\n",
       "      <td>6</td>\n",
       "    </tr>\n",
       "    <tr>\n",
       "      <th>1</th>\n",
       "      <td>All</td>\n",
       "      <td>Source_2</td>\n",
       "      <td>11</td>\n",
       "    </tr>\n",
       "    <tr>\n",
       "      <th>0</th>\n",
       "      <td>Source_1</td>\n",
       "      <td>Retailer_A</td>\n",
       "      <td>1</td>\n",
       "    </tr>\n",
       "    <tr>\n",
       "      <th>1</th>\n",
       "      <td>Source_1</td>\n",
       "      <td>Retailer_B</td>\n",
       "      <td>2</td>\n",
       "    </tr>\n",
       "    <tr>\n",
       "      <th>2</th>\n",
       "      <td>Source_1</td>\n",
       "      <td>Retailer_C</td>\n",
       "      <td>3</td>\n",
       "    </tr>\n",
       "    <tr>\n",
       "      <th>3</th>\n",
       "      <td>Source_2</td>\n",
       "      <td>Retailer_A</td>\n",
       "      <td>4</td>\n",
       "    </tr>\n",
       "    <tr>\n",
       "      <th>4</th>\n",
       "      <td>Source_2</td>\n",
       "      <td>Retailer_B</td>\n",
       "      <td>7</td>\n",
       "    </tr>\n",
       "    <tr>\n",
       "      <th>0</th>\n",
       "      <td>Retailer_A</td>\n",
       "      <td>F</td>\n",
       "      <td>1</td>\n",
       "    </tr>\n",
       "    <tr>\n",
       "      <th>1</th>\n",
       "      <td>Retailer_A</td>\n",
       "      <td>H</td>\n",
       "      <td>4</td>\n",
       "    </tr>\n",
       "    <tr>\n",
       "      <th>2</th>\n",
       "      <td>Retailer_B</td>\n",
       "      <td>G</td>\n",
       "      <td>2</td>\n",
       "    </tr>\n",
       "    <tr>\n",
       "      <th>3</th>\n",
       "      <td>Retailer_B</td>\n",
       "      <td>H</td>\n",
       "      <td>7</td>\n",
       "    </tr>\n",
       "    <tr>\n",
       "      <th>4</th>\n",
       "      <td>Retailer_C</td>\n",
       "      <td>F</td>\n",
       "      <td>3</td>\n",
       "    </tr>\n",
       "  </tbody>\n",
       "</table>\n",
       "</div>"
      ],
      "text/plain": [
       "       source      target  value\n",
       "0         All    Source_1      6\n",
       "1         All    Source_2     11\n",
       "0    Source_1  Retailer_A      1\n",
       "1    Source_1  Retailer_B      2\n",
       "2    Source_1  Retailer_C      3\n",
       "3    Source_2  Retailer_A      4\n",
       "4    Source_2  Retailer_B      7\n",
       "0  Retailer_A           F      1\n",
       "1  Retailer_A           H      4\n",
       "2  Retailer_B           G      2\n",
       "3  Retailer_B           H      7\n",
       "4  Retailer_C           F      3"
      ]
     },
     "execution_count": 6,
     "metadata": {},
     "output_type": "execute_result"
    }
   ],
   "source": [
    "def get_df_all_sankey(DF, lst_col, str_value = 'value'):\n",
    "    \n",
    "    lst_df = [get_df_sankey_single(df, lst_col[0], str_value)]\n",
    "    \n",
    "    for i in range(len(lst_col)-1):\n",
    "        lst_in = [lst_col[i], lst_col[i+1]]\n",
    "        lst_df.append(get_df_sankey_couple(df, lst_in, str_value))\n",
    "        \n",
    "    return pd.concat(lst_df, axis = 0)\n",
    "\n",
    "df_all = get_df_all_sankey(df, ['Col1','Col2','Col3'])\n",
    "df_all"
   ]
  },
  {
   "cell_type": "code",
   "execution_count": 7,
   "metadata": {},
   "outputs": [
    {
     "data": {
      "application/vnd.jupyter.widget-view+json": {
       "model_id": "c2126ed502b34564bd10c7de040600ab",
       "version_major": 2,
       "version_minor": 0
      },
      "text/plain": [
       "SankeyWidget(linkLabelFormat='.0f', links=[{'source': 'All', 'target': 'Source_1', 'value': 6}, {'source': 'Al…"
      ]
     },
     "metadata": {},
     "output_type": "display_data"
    }
   ],
   "source": [
    "get_sankey(df_all)"
   ]
  },
  {
   "cell_type": "markdown",
   "metadata": {},
   "source": [
    "# Testing around!"
   ]
  },
  {
   "cell_type": "code",
   "execution_count": 211,
   "metadata": {},
   "outputs": [],
   "source": [
    "start_time= datetime.now()"
   ]
  },
  {
   "cell_type": "code",
   "execution_count": 207,
   "metadata": {},
   "outputs": [
    {
     "name": "stdout",
     "output_type": "stream",
     "text": [
      "{'day': 0, 'hour': 0, 'minute': 0, 'second': 59}\n",
      "{'day': 0, 'hour': 0, 'minute': 1, 'second': 59}\n",
      "{'day': 0, 'hour': 1, 'minute': 1, 'second': 59}\n",
      "{'day': 3, 'hour': 3, 'minute': 0, 'second': 59}\n",
      "{'day': 0, 'hour': 7, 'minute': 2, 'second': 1}\n",
      "{'day': 0, 'hour': 6, 'minute': 43, 'second': 41}\n",
      "{'day': 0, 'hour': 5, 'minute': 48, 'second': 41}\n"
     ]
    },
    {
     "data": {
      "text/plain": [
       "{'day': 0, 'hour': 5, 'minute': 48, 'second': 41}"
      ]
     },
     "execution_count": 207,
     "metadata": {},
     "output_type": "execute_result"
    }
   ],
   "source": [
    "convert_seconds__days_hours_minutes_seconds(59) # 59 seconds\n",
    "convert_seconds__days_hours_minutes_seconds(59 + 60) # 1 minute + 59 seconds\n",
    "convert_seconds__days_hours_minutes_seconds(59 + 60 + 60*60) # 1 hour + 1 minute + 59 seconds\n",
    "convert_seconds__days_hours_minutes_seconds(59+60*60 + 60*60*2 + 60*60*24*3) # 3 days + 2 days + 1 hour + 59 seconds\n",
    "\n",
    "\n",
    "\n",
    "# Checked following using the following website:\n",
    "# https://www.tools4noobs.com/online_tools/seconds_to_hh_mm_ss/\n",
    "convert_seconds__days_hours_minutes_seconds(25321) # 07:02:01\n",
    "convert_seconds__days_hours_minutes_seconds(24221) # 06:43:41\n",
    "convert_seconds__days_hours_minutes_seconds(20921) # 05:48:41.\n",
    "convert_seconds__days_hours_minutes_seconds(200) # 05:48:41."
   ]
  },
  {
   "cell_type": "code",
   "execution_count": 237,
   "metadata": {},
   "outputs": [],
   "source": [
    "list(convert_seconds__days_hours_minutes_seconds(25321).values())== [0,7,2,1]# 07:02:01\n",
    "\n",
    "\n",
    "import pytest"
   ]
  },
  {
   "cell_type": "code",
   "execution_count": 241,
   "metadata": {},
   "outputs": [
    {
     "name": "stdout",
     "output_type": "stream",
     "text": [
      "7 hour\n",
      "2 minute\n",
      "1 second\n"
     ]
    }
   ],
   "source": [
    "dct_1 = convert_seconds__days_hours_minutes_seconds(25321)\n",
    "\n",
    "\n",
    "for k_, v_ in dct_1.items():\n",
    "    if v_>0:\n",
    "        print(f'{v_} {k_}')\n",
    "#     print(k_, v_)"
   ]
  }
 ],
 "metadata": {
  "kernelspec": {
   "display_name": "Python 3",
   "language": "python",
   "name": "python3"
  },
  "language_info": {
   "codemirror_mode": {
    "name": "ipython",
    "version": 3
   },
   "file_extension": ".py",
   "mimetype": "text/x-python",
   "name": "python",
   "nbconvert_exporter": "python",
   "pygments_lexer": "ipython3",
   "version": "3.6.9"
  }
 },
 "nbformat": 4,
 "nbformat_minor": 2
}
